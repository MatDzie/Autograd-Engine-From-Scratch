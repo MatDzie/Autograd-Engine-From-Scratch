{
 "cells": [
  {
   "attachments": {},
   "cell_type": "markdown",
   "metadata": {},
   "source": [
    "### Functions for visualizing expresions in form of graph"
   ]
  },
  {
   "cell_type": "code",
   "execution_count": 1,
   "metadata": {},
   "outputs": [],
   "source": [
    "from graphviz import Digraph\n",
    "\n",
    "def trace(root):\n",
    "    # builds a set of all nodes and edges in a graph\n",
    "    nodes, edges = set(), set()\n",
    "    def build(value):\n",
    "        if value not in nodes:\n",
    "            nodes.add(value)\n",
    "            for child in value._children:\n",
    "                edges.add((child, value))\n",
    "                build(child)\n",
    "    build(root)\n",
    "    return nodes, edges\n",
    "\n",
    "def draw_dot(root):\n",
    "    dot = Digraph(format='svg', graph_attr={'rankdir': 'LR'}) # LR - left to right\n",
    "    nodes, edges = trace(root)\n",
    "    for node in nodes:\n",
    "        uid = str(id(node))\n",
    "        # for any value in the graph, create rectangular ('record') node for it\n",
    "        dot.node(name = uid, label = \"{ %s | data %.4f | grad %.4f}\" % (node.label, node.data, node.gradient), shape = 'record')\n",
    "        if node._operation:\n",
    "            # if this value is a result of some operation, create a node for it\n",
    "            dot.node(name = uid + node._operation, label = node._operation)\n",
    "            # and connect it to the value node\n",
    "            dot.edge(uid + node._operation, uid)\n",
    "            \n",
    "    for node1, node2 in edges:\n",
    "        # connect edges with _operation nodes\n",
    "        dot.edge(str(id(node1)), str(id(node2)) + node2._operation)\n",
    "        \n",
    "    return dot"
   ]
  }
 ],
 "metadata": {
  "kernelspec": {
   "display_name": "Python 3",
   "language": "python",
   "name": "python3"
  },
  "language_info": {
   "codemirror_mode": {
    "name": "ipython",
    "version": 3
   },
   "file_extension": ".py",
   "mimetype": "text/x-python",
   "name": "python",
   "nbconvert_exporter": "python",
   "pygments_lexer": "ipython3",
   "version": "3.10.11"
  },
  "orig_nbformat": 4
 },
 "nbformat": 4,
 "nbformat_minor": 2
}
