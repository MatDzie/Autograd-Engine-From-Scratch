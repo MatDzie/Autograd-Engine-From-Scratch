{
 "cells": [
  {
   "cell_type": "code",
   "execution_count": 2,
   "metadata": {},
   "outputs": [],
   "source": [
    "import math\n",
    "import numpy as np\n",
    "import matplotlib.pyplot as plt\n",
    "%matplotlib inline"
   ]
  },
  {
   "attachments": {},
   "cell_type": "markdown",
   "metadata": {},
   "source": [
    "Wrapper class for scalar values, that will give us basic mathematical operations with information about what values created them with what operation. Which will basically allow us to create a graph of operations and then calculate gradients of the graph."
   ]
  },
  {
   "cell_type": "code",
   "execution_count": 22,
   "metadata": {},
   "outputs": [],
   "source": [
    "class Value:\n",
    "    def __init__(self, data, children=(), op=''):\n",
    "        self.data = data\n",
    "        self.children = set(children)\n",
    "        self.op = op\n",
    "        \n",
    "    def __repr__(self):\n",
    "        return f\"Value(data={self.data}, children={self.children}, op='{self.op}')\"\n",
    "    \n",
    "    def __add__(self, other):\n",
    "            return Value(self.data + other.data, (self, other), '+')\n",
    "\n",
    "    def __mul__(self, other):\n",
    "            return Value(self.data * other.data, (self, other), '*')\n",
    "    "
   ]
  },
  {
   "cell_type": "code",
   "execution_count": 23,
   "metadata": {},
   "outputs": [
    {
     "name": "stdout",
     "output_type": "stream",
     "text": [
      "Value(data=4.0, children={Value(data=-6.0, children={Value(data=2.0, children=set(), op=''), Value(data=-3.0, children=set(), op='')}, op='*'), Value(data=10.0, children=set(), op='')}, op='+')\n"
     ]
    }
   ],
   "source": [
    "a = Value(2.0)\n",
    "b = Value(-3.0)\n",
    "c = Value(10.0)\n",
    "\n",
    "d = a * b + c # same as d = a.__mul__(b).__add__(c)\n",
    "print(d)"
   ]
  }
 ],
 "metadata": {
  "kernelspec": {
   "display_name": "Python 3",
   "language": "python",
   "name": "python3"
  },
  "language_info": {
   "codemirror_mode": {
    "name": "ipython",
    "version": 3
   },
   "file_extension": ".py",
   "mimetype": "text/x-python",
   "name": "python",
   "nbconvert_exporter": "python",
   "pygments_lexer": "ipython3",
   "version": "3.10.11"
  },
  "orig_nbformat": 4
 },
 "nbformat": 4,
 "nbformat_minor": 2
}
