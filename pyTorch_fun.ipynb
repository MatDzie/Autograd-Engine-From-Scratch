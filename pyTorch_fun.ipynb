{
 "cells": [
  {
   "attachments": {},
   "cell_type": "markdown",
   "metadata": {},
   "source": [
    "### Calculating gradients with pyTorch"
   ]
  },
  {
   "cell_type": "code",
   "execution_count": 7,
   "metadata": {},
   "outputs": [
    {
     "name": "stdout",
     "output_type": "stream",
     "text": [
      "output 0.7071067094802856\n",
      "x1 -1.5000003576278687\n",
      "x2 0.5000001192092896\n",
      "w1 1.000000238418579\n",
      "w2 0.0\n",
      "b 0.5000001192092896\n"
     ]
    }
   ],
   "source": [
    "import torch\n",
    "\n",
    "# Tensors are \"just\" n-dimensional arrays of scalars\n",
    "# The big deal is that we can do a lot of operations in parallel on tensors\n",
    "x1 = torch.Tensor([2.0]) ; x1.requires_grad = True\n",
    "x2 = torch.Tensor([0.0]) ; x2.requires_grad = True\n",
    "w1 = torch.Tensor([-3.0]) ; w1.requires_grad = True\n",
    "w2 = torch.Tensor([1.0]) ; w2.requires_grad = True\n",
    "b = torch.Tensor([6.8813735870195432]) ; b.requires_grad = True\n",
    "n = x1*w1 + x2*w2 + b\n",
    "output = torch.tanh(n)\n",
    "\n",
    "print('output', output.data.item())\n",
    "\n",
    "output.backward()\n",
    "\n",
    "print('x1', x1.grad.item())\n",
    "print('x2',x2.grad.item())\n",
    "print('w1',w1.grad.item())\n",
    "print('w2',w2.grad.item())\n",
    "print('b',b.grad.item())"
   ]
  }
 ],
 "metadata": {
  "kernelspec": {
   "display_name": "Python 3",
   "language": "python",
   "name": "python3"
  },
  "language_info": {
   "codemirror_mode": {
    "name": "ipython",
    "version": 3
   },
   "file_extension": ".py",
   "mimetype": "text/x-python",
   "name": "python",
   "nbconvert_exporter": "python",
   "pygments_lexer": "ipython3",
   "version": "3.10.11"
  },
  "orig_nbformat": 4
 },
 "nbformat": 4,
 "nbformat_minor": 2
}
